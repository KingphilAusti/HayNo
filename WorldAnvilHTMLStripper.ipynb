{
 "cells": [
  {
   "cell_type": "code",
   "execution_count": null,
   "metadata": {},
   "outputs": [],
   "source": [
    "import os\n",
    "import re\n",
    "\n",
    "directory = \"Examples/htmls\"\n",
    "files = os.listdir(directory)\n",
    "htmls = []\n",
    "\n",
    "for file in files:\n",
    "    file_path = os.path.join(directory, file)\n",
    "    if os.path.isfile(file_path):\n",
    "        # Process the file here\n",
    "        print(file_path)\n",
    "        htmls.append(file_path)"
   ]
  },
  {
   "cell_type": "code",
   "execution_count": null,
   "metadata": {},
   "outputs": [],
   "source": [
    "file_contents = []\n",
    "\n",
    "for file in files:\n",
    "    file_path = os.path.join(directory, file)\n",
    "    if os.path.isfile(file_path):\n",
    "        with open(file_path, 'r', encoding='utf-8') as f:\n",
    "            content = f.read()\n",
    "            file_contents.append(content)\n",
    "\n",
    "for element in file_contents:\n",
    "    print(len(element))"
   ]
  },
  {
   "cell_type": "markdown",
   "metadata": {},
   "source": [
    "Here we get the main content of the file:"
   ]
  },
  {
   "cell_type": "code",
   "execution_count": null,
   "metadata": {},
   "outputs": [],
   "source": [
    "content_start = \"article-content-left\"\n",
    "article_content_left = [element.split(content_start)[-1] for element in file_contents]\n",
    "content_end = \"</div>\"\n",
    "article_content_left = [element.split(content_end)[0] for element in article_content_left]\n",
    "for element in article_content_left:\n",
    "    print(len(element))"
   ]
  },
  {
   "cell_type": "code",
   "execution_count": null,
   "metadata": {},
   "outputs": [],
   "source": [
    "cleaned_content = [re.sub(r'<span[^>]*>', '<span>', element) for element in article_content_left]\n",
    "print(cleaned_content[7])\n",
    "cleaned_content = [re.sub(r'<p[^>]*>', '<p>', element) for element in cleaned_content]\n",
    "cleaned_content = [re.sub(r'<a[^>]*>', '<a>', element) for element in cleaned_content]\n",
    "cleaned_content = [re.sub(r'<h[^>]*>', '<h>', element) for element in cleaned_content]\n",
    "cleaned_content = [re.sub(r'<div[^>]*>', '<div>', element) for element in cleaned_content]\n",
    "# cleaned_content = [re.sub(r'</[^>]*>', '', element) for element in cleaned_content]\n",
    "cleaned_content = [re.sub(r'<i[^>]*>', '', element) for element in cleaned_content]\n",
    "cleaned_content = [element.split('<div>')[-1] for element in cleaned_content]\n",
    "\n",
    "cleaned_content = [re.split(r'</[^hb>]*>', element.replace('&nbsp;', ' ')) for element in cleaned_content]\n",
    "\n",
    "for element in cleaned_content:\n",
    "    print(element)"
   ]
  },
  {
   "cell_type": "code",
   "execution_count": null,
   "metadata": {},
   "outputs": [],
   "source": [
    "json_data = []\n",
    "for element in cleaned_content:\n",
    "    json_data_element = {f\"chunk_{i}\": entry for i, entry in enumerate(element)}\n",
    "    json_data.append(json_data_element)\n",
    "print(json_data)"
   ]
  },
  {
   "cell_type": "code",
   "execution_count": null,
   "metadata": {},
   "outputs": [],
   "source": [
    "import json\n",
    "import os\n",
    "\n",
    "# Create a directory to store the JSON files\n",
    "json_directory = \"Examples/json_files\"\n",
    "os.makedirs(json_directory, exist_ok=True)\n",
    "\n",
    "# Save each element in cleaned_content as a JSON file\n",
    "for i, element in enumerate(json_data):\n",
    "    # Get the original file name\n",
    "    original_file_name = files[2*i]\n",
    "\n",
    "    # Create the JSON file name\n",
    "    json_file_name = os.path.splitext(original_file_name)[0] + \".json\"\n",
    "\n",
    "    # Create the JSON file path\n",
    "    json_file_path = os.path.join(json_directory, json_file_name)\n",
    "\n",
    "    print(f\"Saving {json_file_path}\")\n",
    "\n",
    "    # Save the element as JSON\n",
    "    with open(json_file_path, 'w') as f:\n",
    "        json.dump(element, f)"
   ]
  }
 ],
 "metadata": {
  "kernelspec": {
   "display_name": "Python 3",
   "language": "python",
   "name": "python3"
  },
  "language_info": {
   "codemirror_mode": {
    "name": "ipython",
    "version": 3
   },
   "file_extension": ".py",
   "mimetype": "text/x-python",
   "name": "python",
   "nbconvert_exporter": "python",
   "pygments_lexer": "ipython3",
   "version": "3.10.11"
  }
 },
 "nbformat": 4,
 "nbformat_minor": 2
}
